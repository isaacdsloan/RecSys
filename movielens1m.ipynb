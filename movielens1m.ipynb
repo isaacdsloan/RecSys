{
 "cells": [
  {
   "cell_type": "code",
   "execution_count": 2,
   "id": "e353d12b-35e4-4c13-b7bb-7bf4131d7ce8",
   "metadata": {},
   "outputs": [],
   "source": [
    "import warnings\n",
    "warnings.filterwarnings('ignore')\n",
    "\n",
    "import pandas as pd\n",
    "import numpy as np\n",
    "import torch \n",
    "from torch import nn, Tensor\n",
    "import torch.nn.functional as F\n",
    "import matplotlib.pyplot as plt\n",
    "from models.VanillaTransformer import VanillaTransformer, generate_square_subsequent_mask \n",
    "import pdb\n"
   ]
  },
  {
   "cell_type": "markdown",
   "id": "e4f40aca-7eca-4d1e-aacd-58a479412c49",
   "metadata": {
    "tags": []
   },
   "source": [
    "## MovieLens 1M Preprocessing\n",
    "\n",
    "The first dataset that will be used to train and test recommendation systems is the MovieLens 1M dataset. Fields for the dataset must be convereted into vectors in order to be properly inputed into a Transformer model. Thus, ennumerating non-numerical variables is essential for the second part, input embeddings. "
   ]
  },
  {
   "cell_type": "markdown",
   "id": "6e11dc5c-545c-435d-b2ab-a526953e1c6c",
   "metadata": {
    "tags": []
   },
   "source": [
    "#### Users"
   ]
  },
  {
   "cell_type": "code",
   "execution_count": 3,
   "id": "7e5a845b-3af3-472c-ab2b-32f38e1cbdea",
   "metadata": {},
   "outputs": [
    {
     "data": {
      "text/html": [
       "<div>\n",
       "<style scoped>\n",
       "    .dataframe tbody tr th:only-of-type {\n",
       "        vertical-align: middle;\n",
       "    }\n",
       "\n",
       "    .dataframe tbody tr th {\n",
       "        vertical-align: top;\n",
       "    }\n",
       "\n",
       "    .dataframe thead th {\n",
       "        text-align: right;\n",
       "    }\n",
       "</style>\n",
       "<table border=\"1\" class=\"dataframe\">\n",
       "  <thead>\n",
       "    <tr style=\"text-align: right;\">\n",
       "      <th></th>\n",
       "      <th>UserID</th>\n",
       "      <th>Gender</th>\n",
       "      <th>Age</th>\n",
       "      <th>Occupation</th>\n",
       "      <th>Zip-code</th>\n",
       "    </tr>\n",
       "  </thead>\n",
       "  <tbody>\n",
       "    <tr>\n",
       "      <th>0</th>\n",
       "      <td>1</td>\n",
       "      <td>False</td>\n",
       "      <td>1</td>\n",
       "      <td>10</td>\n",
       "      <td>48067</td>\n",
       "    </tr>\n",
       "    <tr>\n",
       "      <th>1</th>\n",
       "      <td>2</td>\n",
       "      <td>True</td>\n",
       "      <td>56</td>\n",
       "      <td>16</td>\n",
       "      <td>70072</td>\n",
       "    </tr>\n",
       "    <tr>\n",
       "      <th>2</th>\n",
       "      <td>3</td>\n",
       "      <td>True</td>\n",
       "      <td>25</td>\n",
       "      <td>15</td>\n",
       "      <td>55117</td>\n",
       "    </tr>\n",
       "    <tr>\n",
       "      <th>3</th>\n",
       "      <td>4</td>\n",
       "      <td>True</td>\n",
       "      <td>45</td>\n",
       "      <td>7</td>\n",
       "      <td>02460</td>\n",
       "    </tr>\n",
       "    <tr>\n",
       "      <th>4</th>\n",
       "      <td>5</td>\n",
       "      <td>True</td>\n",
       "      <td>25</td>\n",
       "      <td>20</td>\n",
       "      <td>55455</td>\n",
       "    </tr>\n",
       "  </tbody>\n",
       "</table>\n",
       "</div>"
      ],
      "text/plain": [
       "   UserID  Gender  Age  Occupation Zip-code\n",
       "0       1   False    1          10    48067\n",
       "1       2    True   56          16    70072\n",
       "2       3    True   25          15    55117\n",
       "3       4    True   45           7    02460\n",
       "4       5    True   25          20    55455"
      ]
     },
     "execution_count": 3,
     "metadata": {},
     "output_type": "execute_result"
    }
   ],
   "source": [
    "users = pd.read_csv(\"data/users.dat\", sep=\"::\", header=None, engine=\"python\", encoding=\"latin-1\")\n",
    "users.columns = [\"UserID\", \"Gender\", \"Age\", \"Occupation\", \"Zip-code\"]\n",
    "\n",
    "### Male is True\n",
    "users['Gender'] = users['Gender'].apply(lambda sex: sex == 'M')\n",
    "users.head()"
   ]
  },
  {
   "cell_type": "code",
   "execution_count": 4,
   "id": "56d219c6-802c-459d-b251-4f836152c1fc",
   "metadata": {},
   "outputs": [
    {
     "name": "stdout",
     "output_type": "stream",
     "text": [
      "Number of users x features: (6040, 5)\n"
     ]
    }
   ],
   "source": [
    "print(\"Number of users x features:\", users.shape)"
   ]
  },
  {
   "cell_type": "markdown",
   "id": "505c2e58-7989-49b4-bc05-4adc1c4a7f35",
   "metadata": {
    "tags": []
   },
   "source": [
    "#### Movies"
   ]
  },
  {
   "cell_type": "code",
   "execution_count": 5,
   "id": "1bdc218b-d3a0-4332-901b-79552b6d5667",
   "metadata": {},
   "outputs": [
    {
     "data": {
      "text/html": [
       "<div>\n",
       "<style scoped>\n",
       "    .dataframe tbody tr th:only-of-type {\n",
       "        vertical-align: middle;\n",
       "    }\n",
       "\n",
       "    .dataframe tbody tr th {\n",
       "        vertical-align: top;\n",
       "    }\n",
       "\n",
       "    .dataframe thead th {\n",
       "        text-align: right;\n",
       "    }\n",
       "</style>\n",
       "<table border=\"1\" class=\"dataframe\">\n",
       "  <thead>\n",
       "    <tr style=\"text-align: right;\">\n",
       "      <th></th>\n",
       "      <th>MovieID</th>\n",
       "      <th>Movie</th>\n",
       "      <th>Action</th>\n",
       "      <th>Adventure</th>\n",
       "      <th>Animation</th>\n",
       "      <th>Children's</th>\n",
       "      <th>Comedy</th>\n",
       "      <th>Crime</th>\n",
       "      <th>Documentary</th>\n",
       "      <th>Drama</th>\n",
       "      <th>Fantasy</th>\n",
       "      <th>Film-Noir</th>\n",
       "      <th>Horror</th>\n",
       "      <th>Musical</th>\n",
       "      <th>Mystery</th>\n",
       "      <th>Romance</th>\n",
       "      <th>Sci-Fi</th>\n",
       "      <th>Thriller</th>\n",
       "      <th>War</th>\n",
       "      <th>Western</th>\n",
       "    </tr>\n",
       "  </thead>\n",
       "  <tbody>\n",
       "    <tr>\n",
       "      <th>0</th>\n",
       "      <td>1</td>\n",
       "      <td>Toy Story (1995)</td>\n",
       "      <td>0</td>\n",
       "      <td>0</td>\n",
       "      <td>1</td>\n",
       "      <td>1</td>\n",
       "      <td>1</td>\n",
       "      <td>0</td>\n",
       "      <td>0</td>\n",
       "      <td>0</td>\n",
       "      <td>0</td>\n",
       "      <td>0</td>\n",
       "      <td>0</td>\n",
       "      <td>0</td>\n",
       "      <td>0</td>\n",
       "      <td>0</td>\n",
       "      <td>0</td>\n",
       "      <td>0</td>\n",
       "      <td>0</td>\n",
       "      <td>0</td>\n",
       "    </tr>\n",
       "    <tr>\n",
       "      <th>1</th>\n",
       "      <td>2</td>\n",
       "      <td>Jumanji (1995)</td>\n",
       "      <td>0</td>\n",
       "      <td>1</td>\n",
       "      <td>0</td>\n",
       "      <td>1</td>\n",
       "      <td>0</td>\n",
       "      <td>0</td>\n",
       "      <td>0</td>\n",
       "      <td>0</td>\n",
       "      <td>1</td>\n",
       "      <td>0</td>\n",
       "      <td>0</td>\n",
       "      <td>0</td>\n",
       "      <td>0</td>\n",
       "      <td>0</td>\n",
       "      <td>0</td>\n",
       "      <td>0</td>\n",
       "      <td>0</td>\n",
       "      <td>0</td>\n",
       "    </tr>\n",
       "    <tr>\n",
       "      <th>2</th>\n",
       "      <td>3</td>\n",
       "      <td>Grumpier Old Men (1995)</td>\n",
       "      <td>0</td>\n",
       "      <td>0</td>\n",
       "      <td>0</td>\n",
       "      <td>0</td>\n",
       "      <td>1</td>\n",
       "      <td>0</td>\n",
       "      <td>0</td>\n",
       "      <td>0</td>\n",
       "      <td>0</td>\n",
       "      <td>0</td>\n",
       "      <td>0</td>\n",
       "      <td>0</td>\n",
       "      <td>0</td>\n",
       "      <td>1</td>\n",
       "      <td>0</td>\n",
       "      <td>0</td>\n",
       "      <td>0</td>\n",
       "      <td>0</td>\n",
       "    </tr>\n",
       "    <tr>\n",
       "      <th>3</th>\n",
       "      <td>4</td>\n",
       "      <td>Waiting to Exhale (1995)</td>\n",
       "      <td>0</td>\n",
       "      <td>0</td>\n",
       "      <td>0</td>\n",
       "      <td>0</td>\n",
       "      <td>1</td>\n",
       "      <td>0</td>\n",
       "      <td>0</td>\n",
       "      <td>1</td>\n",
       "      <td>0</td>\n",
       "      <td>0</td>\n",
       "      <td>0</td>\n",
       "      <td>0</td>\n",
       "      <td>0</td>\n",
       "      <td>0</td>\n",
       "      <td>0</td>\n",
       "      <td>0</td>\n",
       "      <td>0</td>\n",
       "      <td>0</td>\n",
       "    </tr>\n",
       "    <tr>\n",
       "      <th>4</th>\n",
       "      <td>5</td>\n",
       "      <td>Father of the Bride Part II (1995)</td>\n",
       "      <td>0</td>\n",
       "      <td>0</td>\n",
       "      <td>0</td>\n",
       "      <td>0</td>\n",
       "      <td>1</td>\n",
       "      <td>0</td>\n",
       "      <td>0</td>\n",
       "      <td>0</td>\n",
       "      <td>0</td>\n",
       "      <td>0</td>\n",
       "      <td>0</td>\n",
       "      <td>0</td>\n",
       "      <td>0</td>\n",
       "      <td>0</td>\n",
       "      <td>0</td>\n",
       "      <td>0</td>\n",
       "      <td>0</td>\n",
       "      <td>0</td>\n",
       "    </tr>\n",
       "  </tbody>\n",
       "</table>\n",
       "</div>"
      ],
      "text/plain": [
       "   MovieID                               Movie  Action  Adventure  Animation  \\\n",
       "0        1                    Toy Story (1995)       0          0          1   \n",
       "1        2                      Jumanji (1995)       0          1          0   \n",
       "2        3             Grumpier Old Men (1995)       0          0          0   \n",
       "3        4            Waiting to Exhale (1995)       0          0          0   \n",
       "4        5  Father of the Bride Part II (1995)       0          0          0   \n",
       "\n",
       "   Children's  Comedy  Crime  Documentary  Drama  Fantasy  Film-Noir  Horror  \\\n",
       "0           1       1      0            0      0        0          0       0   \n",
       "1           1       0      0            0      0        1          0       0   \n",
       "2           0       1      0            0      0        0          0       0   \n",
       "3           0       1      0            0      1        0          0       0   \n",
       "4           0       1      0            0      0        0          0       0   \n",
       "\n",
       "   Musical  Mystery  Romance  Sci-Fi  Thriller  War  Western  \n",
       "0        0        0        0       0         0    0        0  \n",
       "1        0        0        0       0         0    0        0  \n",
       "2        0        0        1       0         0    0        0  \n",
       "3        0        0        0       0         0    0        0  \n",
       "4        0        0        0       0         0    0        0  "
      ]
     },
     "execution_count": 5,
     "metadata": {},
     "output_type": "execute_result"
    }
   ],
   "source": [
    "movies = pd.read_csv(\"data/movies.dat\", sep=\"::\", names=[\"MovieID\", \"Movie\", \"Genre\"], encoding='latin-1')\n",
    "movies['Genre'] = movies['Genre'].copy().str.split(\"|\")\n",
    "\n",
    "\n",
    "new_movies = movies.explode('Genre')\n",
    "ennumerate_genre = pd.crosstab(new_movies.Movie, new_movies.Genre).reset_index()\n",
    "movie_indicies = movies[['MovieID', \"Movie\"]].copy()\n",
    "enumerated_movies = movie_indicies.merge(ennumerate_genre, on='Movie')\n",
    "enumerated_movies.head()"
   ]
  },
  {
   "cell_type": "markdown",
   "id": "8916cf2a-498b-4869-9095-d65c673d4b35",
   "metadata": {
    "tags": []
   },
   "source": [
    "#### Ratings"
   ]
  },
  {
   "cell_type": "code",
   "execution_count": 6,
   "id": "426e4476-ce88-43c6-a2a9-90038c4ad98d",
   "metadata": {},
   "outputs": [
    {
     "data": {
      "text/html": [
       "<div>\n",
       "<style scoped>\n",
       "    .dataframe tbody tr th:only-of-type {\n",
       "        vertical-align: middle;\n",
       "    }\n",
       "\n",
       "    .dataframe tbody tr th {\n",
       "        vertical-align: top;\n",
       "    }\n",
       "\n",
       "    .dataframe thead th {\n",
       "        text-align: right;\n",
       "    }\n",
       "</style>\n",
       "<table border=\"1\" class=\"dataframe\">\n",
       "  <thead>\n",
       "    <tr style=\"text-align: right;\">\n",
       "      <th></th>\n",
       "      <th>UserID</th>\n",
       "      <th>MovieID</th>\n",
       "      <th>Rating</th>\n",
       "      <th>time</th>\n",
       "      <th>interaction</th>\n",
       "    </tr>\n",
       "  </thead>\n",
       "  <tbody>\n",
       "    <tr>\n",
       "      <th>0</th>\n",
       "      <td>1</td>\n",
       "      <td>1193</td>\n",
       "      <td>5</td>\n",
       "      <td>978300760</td>\n",
       "      <td>1.0</td>\n",
       "    </tr>\n",
       "    <tr>\n",
       "      <th>1</th>\n",
       "      <td>1</td>\n",
       "      <td>661</td>\n",
       "      <td>3</td>\n",
       "      <td>978302109</td>\n",
       "      <td>1.0</td>\n",
       "    </tr>\n",
       "    <tr>\n",
       "      <th>2</th>\n",
       "      <td>1</td>\n",
       "      <td>914</td>\n",
       "      <td>3</td>\n",
       "      <td>978301968</td>\n",
       "      <td>1.0</td>\n",
       "    </tr>\n",
       "    <tr>\n",
       "      <th>3</th>\n",
       "      <td>1</td>\n",
       "      <td>3408</td>\n",
       "      <td>4</td>\n",
       "      <td>978300275</td>\n",
       "      <td>1.0</td>\n",
       "    </tr>\n",
       "    <tr>\n",
       "      <th>4</th>\n",
       "      <td>1</td>\n",
       "      <td>2355</td>\n",
       "      <td>5</td>\n",
       "      <td>978824291</td>\n",
       "      <td>1.0</td>\n",
       "    </tr>\n",
       "  </tbody>\n",
       "</table>\n",
       "</div>"
      ],
      "text/plain": [
       "   UserID  MovieID  Rating       time  interaction\n",
       "0       1     1193       5  978300760          1.0\n",
       "1       1      661       3  978302109          1.0\n",
       "2       1      914       3  978301968          1.0\n",
       "3       1     3408       4  978300275          1.0\n",
       "4       1     2355       5  978824291          1.0"
      ]
     },
     "execution_count": 6,
     "metadata": {},
     "output_type": "execute_result"
    }
   ],
   "source": [
    "ratings = pd.read_csv(\"data/ratings.dat\", sep=\"::\", names=['UserID', 'MovieID', 'Rating', 'time'],encoding='latin-1')\n",
    "ratings['interaction'] = np.ones(len(ratings))\n",
    "ratings.head()"
   ]
  },
  {
   "cell_type": "markdown",
   "id": "2933576b-8c5a-42c8-8b51-145c4047ed30",
   "metadata": {
    "tags": []
   },
   "source": [
    "#### Combined"
   ]
  },
  {
   "cell_type": "code",
   "execution_count": 7,
   "id": "1c1f83e2-a369-4d42-bf0c-a6c24d7351dc",
   "metadata": {},
   "outputs": [
    {
     "data": {
      "text/html": [
       "<div>\n",
       "<style scoped>\n",
       "    .dataframe tbody tr th:only-of-type {\n",
       "        vertical-align: middle;\n",
       "    }\n",
       "\n",
       "    .dataframe tbody tr th {\n",
       "        vertical-align: top;\n",
       "    }\n",
       "\n",
       "    .dataframe thead th {\n",
       "        text-align: right;\n",
       "    }\n",
       "</style>\n",
       "<table border=\"1\" class=\"dataframe\">\n",
       "  <thead>\n",
       "    <tr style=\"text-align: right;\">\n",
       "      <th></th>\n",
       "      <th>index</th>\n",
       "      <th>UserID</th>\n",
       "      <th>Gender</th>\n",
       "      <th>Age</th>\n",
       "      <th>Occupation</th>\n",
       "      <th>Zip-code</th>\n",
       "      <th>MovieID</th>\n",
       "      <th>Rating</th>\n",
       "      <th>time</th>\n",
       "      <th>interaction</th>\n",
       "      <th>...</th>\n",
       "      <th>Fantasy</th>\n",
       "      <th>Film-Noir</th>\n",
       "      <th>Horror</th>\n",
       "      <th>Musical</th>\n",
       "      <th>Mystery</th>\n",
       "      <th>Romance</th>\n",
       "      <th>Sci-Fi</th>\n",
       "      <th>Thriller</th>\n",
       "      <th>War</th>\n",
       "      <th>Western</th>\n",
       "    </tr>\n",
       "  </thead>\n",
       "  <tbody>\n",
       "    <tr>\n",
       "      <th>0</th>\n",
       "      <td>0</td>\n",
       "      <td>1</td>\n",
       "      <td>False</td>\n",
       "      <td>1</td>\n",
       "      <td>10</td>\n",
       "      <td>48067</td>\n",
       "      <td>1193</td>\n",
       "      <td>5</td>\n",
       "      <td>978300760</td>\n",
       "      <td>1.0</td>\n",
       "      <td>...</td>\n",
       "      <td>0</td>\n",
       "      <td>0</td>\n",
       "      <td>0</td>\n",
       "      <td>0</td>\n",
       "      <td>0</td>\n",
       "      <td>0</td>\n",
       "      <td>0</td>\n",
       "      <td>0</td>\n",
       "      <td>0</td>\n",
       "      <td>0</td>\n",
       "    </tr>\n",
       "    <tr>\n",
       "      <th>1</th>\n",
       "      <td>1</td>\n",
       "      <td>1</td>\n",
       "      <td>False</td>\n",
       "      <td>1</td>\n",
       "      <td>10</td>\n",
       "      <td>48067</td>\n",
       "      <td>661</td>\n",
       "      <td>3</td>\n",
       "      <td>978302109</td>\n",
       "      <td>1.0</td>\n",
       "      <td>...</td>\n",
       "      <td>0</td>\n",
       "      <td>0</td>\n",
       "      <td>0</td>\n",
       "      <td>1</td>\n",
       "      <td>0</td>\n",
       "      <td>0</td>\n",
       "      <td>0</td>\n",
       "      <td>0</td>\n",
       "      <td>0</td>\n",
       "      <td>0</td>\n",
       "    </tr>\n",
       "    <tr>\n",
       "      <th>2</th>\n",
       "      <td>2</td>\n",
       "      <td>1</td>\n",
       "      <td>False</td>\n",
       "      <td>1</td>\n",
       "      <td>10</td>\n",
       "      <td>48067</td>\n",
       "      <td>914</td>\n",
       "      <td>3</td>\n",
       "      <td>978301968</td>\n",
       "      <td>1.0</td>\n",
       "      <td>...</td>\n",
       "      <td>0</td>\n",
       "      <td>0</td>\n",
       "      <td>0</td>\n",
       "      <td>1</td>\n",
       "      <td>0</td>\n",
       "      <td>1</td>\n",
       "      <td>0</td>\n",
       "      <td>0</td>\n",
       "      <td>0</td>\n",
       "      <td>0</td>\n",
       "    </tr>\n",
       "    <tr>\n",
       "      <th>3</th>\n",
       "      <td>3</td>\n",
       "      <td>1</td>\n",
       "      <td>False</td>\n",
       "      <td>1</td>\n",
       "      <td>10</td>\n",
       "      <td>48067</td>\n",
       "      <td>3408</td>\n",
       "      <td>4</td>\n",
       "      <td>978300275</td>\n",
       "      <td>1.0</td>\n",
       "      <td>...</td>\n",
       "      <td>0</td>\n",
       "      <td>0</td>\n",
       "      <td>0</td>\n",
       "      <td>0</td>\n",
       "      <td>0</td>\n",
       "      <td>0</td>\n",
       "      <td>0</td>\n",
       "      <td>0</td>\n",
       "      <td>0</td>\n",
       "      <td>0</td>\n",
       "    </tr>\n",
       "    <tr>\n",
       "      <th>4</th>\n",
       "      <td>4</td>\n",
       "      <td>1</td>\n",
       "      <td>False</td>\n",
       "      <td>1</td>\n",
       "      <td>10</td>\n",
       "      <td>48067</td>\n",
       "      <td>2355</td>\n",
       "      <td>5</td>\n",
       "      <td>978824291</td>\n",
       "      <td>1.0</td>\n",
       "      <td>...</td>\n",
       "      <td>0</td>\n",
       "      <td>0</td>\n",
       "      <td>0</td>\n",
       "      <td>0</td>\n",
       "      <td>0</td>\n",
       "      <td>0</td>\n",
       "      <td>0</td>\n",
       "      <td>0</td>\n",
       "      <td>0</td>\n",
       "      <td>0</td>\n",
       "    </tr>\n",
       "  </tbody>\n",
       "</table>\n",
       "<p>5 rows × 29 columns</p>\n",
       "</div>"
      ],
      "text/plain": [
       "   index  UserID  Gender  Age  Occupation Zip-code  MovieID  Rating  \\\n",
       "0      0       1   False    1          10    48067     1193       5   \n",
       "1      1       1   False    1          10    48067      661       3   \n",
       "2      2       1   False    1          10    48067      914       3   \n",
       "3      3       1   False    1          10    48067     3408       4   \n",
       "4      4       1   False    1          10    48067     2355       5   \n",
       "\n",
       "        time  interaction  ... Fantasy  Film-Noir  Horror  Musical  Mystery  \\\n",
       "0  978300760          1.0  ...       0          0       0        0        0   \n",
       "1  978302109          1.0  ...       0          0       0        1        0   \n",
       "2  978301968          1.0  ...       0          0       0        1        0   \n",
       "3  978300275          1.0  ...       0          0       0        0        0   \n",
       "4  978824291          1.0  ...       0          0       0        0        0   \n",
       "\n",
       "   Romance  Sci-Fi  Thriller  War  Western  \n",
       "0        0       0         0    0        0  \n",
       "1        0       0         0    0        0  \n",
       "2        1       0         0    0        0  \n",
       "3        0       0         0    0        0  \n",
       "4        0       0         0    0        0  \n",
       "\n",
       "[5 rows x 29 columns]"
      ]
     },
     "execution_count": 7,
     "metadata": {},
     "output_type": "execute_result"
    }
   ],
   "source": [
    "ratings_plus_movie = ratings.merge(enumerated_movies, on='MovieID')\n",
    "movies_combined = users.merge(ratings_plus_movie, on='UserID').copy()\n",
    "\n",
    "### Can get rid of Movie probably\n",
    "movies_combined.reset_index(inplace=True)\n",
    "movies_combined.head()"
   ]
  },
  {
   "cell_type": "code",
   "execution_count": 8,
   "id": "41cbf861",
   "metadata": {},
   "outputs": [
    {
     "data": {
      "text/plain": [
       "3706"
      ]
     },
     "execution_count": 8,
     "metadata": {},
     "output_type": "execute_result"
    }
   ],
   "source": [
    "len(movies_combined.MovieID.unique())"
   ]
  },
  {
   "cell_type": "code",
   "execution_count": 9,
   "id": "dc77abb8",
   "metadata": {},
   "outputs": [
    {
     "data": {
      "text/plain": [
       "array([1193,  661,  914, ..., 2845, 3607, 2909])"
      ]
     },
     "execution_count": 9,
     "metadata": {},
     "output_type": "execute_result"
    }
   ],
   "source": [
    "movies_combined.MovieID.unique()"
   ]
  },
  {
   "cell_type": "code",
   "execution_count": 10,
   "id": "8ba8bce4",
   "metadata": {},
   "outputs": [],
   "source": [
    "### Must redefine vocabulary\n",
    "\n",
    "enum_movies = enumerate(movies_combined.MovieID.unique())\n",
    "new_movie_id = dict((old_id, new_id + 1) for new_id, old_id in enum_movies)\n",
    "movies_combined.replace({'MovieID' : new_movie_id}, inplace=True)"
   ]
  },
  {
   "cell_type": "code",
   "execution_count": 11,
   "id": "dac94ab5",
   "metadata": {},
   "outputs": [
    {
     "data": {
      "text/plain": [
       "3706"
      ]
     },
     "execution_count": 11,
     "metadata": {},
     "output_type": "execute_result"
    }
   ],
   "source": [
    "len(movies_combined.MovieID.unique())"
   ]
  },
  {
   "cell_type": "markdown",
   "id": "7b15c0e4-60fb-44db-bb4c-07f292f25464",
   "metadata": {},
   "source": [
    "## Train-Test Split"
   ]
  },
  {
   "cell_type": "markdown",
   "id": "14b8684e-f80a-4e57-a895-92cc041cadcf",
   "metadata": {},
   "source": [
    "Following from the train test split process of BERT4Rec, each movie watched by a single user will be grouped and ordered to become the historical session for that particular user. For each user, we will take out the most recent movie that was watched and save it for the testing set, and we will remove the second most recent movie to be used for validation set. \n",
    "\n",
    "After, we will try the traditional train-test split by randomly selecting users for the training and testing groups"
   ]
  },
  {
   "cell_type": "code",
   "execution_count": 12,
   "id": "d1046d1b",
   "metadata": {},
   "outputs": [
    {
     "data": {
      "text/plain": [
       "(6040, 3)"
      ]
     },
     "execution_count": 12,
     "metadata": {},
     "output_type": "execute_result"
    }
   ],
   "source": [
    "set_ranges = movies_combined.sort_values(by='time').groupby('UserID').agg({'MovieID' : list, 'index': list}).reset_index(drop=True)\n",
    "\n",
    "set_ranges['len'] = set_ranges['MovieID'].str.len()\n",
    "\n",
    "### Limiting max_len to 512, minimum is already 20, think about truncating \n",
    "### Instead of getting rid of users with long sequences\n",
    "# set_ranges = set_ranges.loc[set_ranges.len < 512].copy()\n",
    "#371 above 512\n",
    "\n",
    "above_max_seq_len = set_ranges.loc[set_ranges.len >= 512].copy()\n",
    "above_max_seq_len['MovieID'] = above_max_seq_len['MovieID'].str[:512]\n",
    "above_max_seq_len['index'] = above_max_seq_len['index'].str[:512]\n",
    "\n",
    "set_ranges.iloc[np.array(above_max_seq_len.index)] = above_max_seq_len\n",
    "set_ranges['len'] = set_ranges['MovieID'].str.len()\n",
    "set_ranges.shape"
   ]
  },
  {
   "cell_type": "code",
   "execution_count": 13,
   "id": "d33dc53d",
   "metadata": {},
   "outputs": [],
   "source": [
    "set_ranges['val'] = set_ranges['MovieID'].str[-2]\n",
    "set_ranges['test'] = set_ranges['MovieID'].str[-1]\n",
    "set_ranges['train'] = set_ranges['MovieID'].str[:-2]\n",
    "\n",
    "# Use index to get the correct rows in the original dataset to extract the appropriate features from the user-item pair\n",
    "set_ranges['val_index'] = set_ranges['index'].str[-2]\n",
    "set_ranges['test_index'] = set_ranges['index'].str[-1]\n",
    "set_ranges['train_index'] = set_ranges['index'].str[:-2]\n",
    "\n",
    "train_test_split_raw = set_ranges.drop(columns=['MovieID', 'index']).copy()"
   ]
  },
  {
   "cell_type": "markdown",
   "id": "c8b73956-ebdb-4866-9457-8008b9b9a9fd",
   "metadata": {},
   "source": [
    "## Input Embeddings"
   ]
  },
  {
   "cell_type": "markdown",
   "id": "efac2ca9-76dd-404b-b958-c334f3297c0a",
   "metadata": {},
   "source": [
    "After the process of getting the data into the proper format, it is time to process the fields so that the Transformer model can be properly trained.\n",
    "\n",
    "Should the larger movie history sequences be seperated out or completely cut?"
   ]
  },
  {
   "cell_type": "code",
   "execution_count": 14,
   "id": "e4292e16",
   "metadata": {},
   "outputs": [
    {
     "data": {
      "text/plain": [
       "torch.Size([6040, 512])"
      ]
     },
     "execution_count": 14,
     "metadata": {},
     "output_type": "execute_result"
    }
   ],
   "source": [
    "new_list = np.array(train_test_split_raw.train)\n",
    "tensor_lst = [Tensor(lst) for lst in new_list]\n",
    "pad_tensors = [F.pad(tensor, pad=(0, 512-len(tensor))) for tensor in tensor_lst]\n",
    "ready_to_embed = torch.stack(pad_tensors)\n",
    "# ready_to_embed = torch.einsum(\"ij -> ji\", almost_ready_to_embed)\n",
    "ready_to_embed.shape"
   ]
  },
  {
   "cell_type": "code",
   "execution_count": 15,
   "id": "1364b33c",
   "metadata": {},
   "outputs": [
    {
     "data": {
      "text/plain": [
       "torch.Size([6040, 513])"
      ]
     },
     "execution_count": 15,
     "metadata": {},
     "output_type": "execute_result"
    }
   ],
   "source": [
    "val_ready = Tensor(train_test_split_raw.val).unsqueeze(1)\n",
    "evaluation_input = torch.cat((ready_to_embed, val_ready), dim=1)\n",
    "evaluation_input.shape"
   ]
  },
  {
   "cell_type": "code",
   "execution_count": 16,
   "id": "247c2542",
   "metadata": {},
   "outputs": [],
   "source": [
    "training_movies = list(train_test_split_raw.train)\n",
    "training_movies = np.unique([item for sublist in training_movies for item in sublist])\n",
    "\n",
    "training_indicies = list(train_test_split_raw.train_index)\n",
    "training_indicies = [item for sublist in training_indicies for item in sublist]\n",
    "\n",
    "training_data_all = movies_combined.iloc[training_movies].copy()"
   ]
  },
  {
   "cell_type": "markdown",
   "id": "0fca5851",
   "metadata": {},
   "source": [
    "###"
   ]
  },
  {
   "cell_type": "markdown",
   "id": "082f7ed0",
   "metadata": {},
   "source": [
    "##### Breakdown input data into appropriate batches"
   ]
  },
  {
   "cell_type": "code",
   "execution_count": 33,
   "id": "d5e4d9f0",
   "metadata": {},
   "outputs": [],
   "source": [
    "\"\"\"Keep 200 as default batch size.\n",
    "During training, move in steps of batch_size.\n",
    "[batch_size, full_seq_len]\"\"\"\n",
    "batch_size = 1000\n",
    "def get_batch(src: Tensor, i: int, batch_size: int = 1000):\n",
    "    seq_len = min(batch_size, src.shape[0] - i) \n",
    "\n",
    "    data = src[i:i+seq_len, :(src.shape[1] - 1)]\n",
    "    \n",
    "    # Target is the same as data but shifted over an index\n",
    "    target = src[i+1:i+1+seq_len, 1:src.shape[1]].reshape(-1)\n",
    "    return data, target\n",
    "\n",
    "def get_batch_next_item(src: Tensor, i: int, batch_size: int = 1000):\n",
    "    seq_len = min(batch_size, src.shape[0] - i) \n",
    "\n",
    "    data = src[i:i+seq_len, :(src.shape[1] - 1)]\n",
    "    \n",
    "    # Target is the same as data but shifted over an index\n",
    "    target = src[i+1:i+1+seq_len, src.shape[1] - 1].reshape(-1)\n",
    "    return data, target \n"
   ]
  },
  {
   "cell_type": "code",
   "execution_count": 34,
   "id": "412f54ce",
   "metadata": {},
   "outputs": [
    {
     "data": {
      "text/plain": [
       "tensor([[1859.,   65., 3131.,  ...,    0.,    0.,    0.],\n",
       "        [1372.,  435.,   49.,  ...,    0.,    0.,    0.],\n",
       "        [  45.,   40., 1048.,  ...,    0.,    0.,    0.],\n",
       "        ...,\n",
       "        [2674.,   45.,   23.,  ...,    0.,    0.,    0.],\n",
       "        [2963.,  936.,  247.,  ...,    0.,    0.,    0.],\n",
       "        [ 511.,  715.,  589.,  ...,    0.,    0.,    0.]])"
      ]
     },
     "execution_count": 34,
     "metadata": {},
     "output_type": "execute_result"
    }
   ],
   "source": [
    "get_batch_next_item(evaluation_input, 5000, 200)[0]\n"
   ]
  },
  {
   "cell_type": "markdown",
   "id": "ea7d0964",
   "metadata": {},
   "source": [
    "### Initialization of Parameters"
   ]
  },
  {
   "cell_type": "code",
   "execution_count": 35,
   "id": "82076d30",
   "metadata": {},
   "outputs": [],
   "source": [
    "device = torch.device('cuda' if torch.cuda.is_available() else 'cpu')\n",
    "\n",
    "\n",
    "ntokens = len(movies_combined.MovieID.unique()) # size of vocabulary\n",
    "emsize = 200  # embedding dimension\n",
    "d_hid = 200  # dimension of the feedforward network model in nn.TransformerEncoder\n",
    "nlayers = 2  # number of nn.TransformerEncoderLayer in nn.TransformerEncoder\n",
    "nhead = 2  # number of heads in nn.MultiheadAttention\n",
    "dropout = 0.2  # dropout probability\n",
    "model = VanillaTransformer(ntokens, emsize, nhead, d_hid, nlayers, dropout).to(device)"
   ]
  },
  {
   "cell_type": "code",
   "execution_count": 36,
   "id": "c95a8b46",
   "metadata": {},
   "outputs": [
    {
     "data": {
      "text/plain": [
       "3706"
      ]
     },
     "execution_count": 36,
     "metadata": {},
     "output_type": "execute_result"
    }
   ],
   "source": [
    "########## Redo MovieIDs, i.e. each movieID in [1, 3668] ################\n",
    "ntokens\n",
    "##############################################################"
   ]
  },
  {
   "cell_type": "markdown",
   "id": "20370e53",
   "metadata": {},
   "source": [
    "## Training "
   ]
  },
  {
   "cell_type": "code",
   "execution_count": 30,
   "id": "a816996c",
   "metadata": {},
   "outputs": [],
   "source": [
    "import copy\n",
    "import time\n",
    "import math\n",
    "\n",
    "epoch = 1\n",
    "\n",
    "### Figure out loss function \n",
    "criterion = nn.CrossEntropyLoss()\n",
    "lr = 5.0  # learning rate\n",
    "optimizer = torch.optim.SGD(model.parameters(), lr=lr)\n",
    "\n",
    "# What does this do?\n",
    "scheduler = torch.optim.lr_scheduler.StepLR(optimizer, 1.0, gamma=0.95)\n",
    "\n",
    "def train(model: nn.Module) -> None:\n",
    "    model.train()  # turn on train mode\n",
    "    total_loss = 0.\n",
    "    \n",
    "    # What does this stand for\n",
    "    log_interval = 200\n",
    "    \n",
    "    start_time = time.time()\n",
    "    \n",
    "    # Change bptt\n",
    "    src_mask = generate_square_subsequent_mask(511).to(device)\n",
    "    # Ensures that the model masks the future tokens, different from masking padded tokens\n",
    "\n",
    "\n",
    "    ### Since batch does not evenly divide len of data, don't we need to have an edge case for last smaller batch\n",
    "    num_batches = len(ready_to_embed) // batch_size\n",
    "    for batch, i in enumerate(range(0, ready_to_embed.size(0) - 1, batch_size)):\n",
    "        data, targets = get_batch(ready_to_embed, i)\n",
    "        \n",
    "        # Ensures that the model masks the padded tokens\n",
    "        src_pad_mask = (data == 0).bool()       \n",
    "        ### How do we deal with the target masking?\n",
    "       \n",
    "        curr_batch_size = data.size(0)\n",
    "        # For src_mask fix\n",
    "        if curr_batch_size != batch_size:  # only on last batch\n",
    "            src_mask = src_mask[:curr_batch_size, :curr_batch_size]\n",
    "        \n",
    "        # ###############Bug fix code####################\n",
    "        data = data.type(torch.LongTensor)\n",
    "        # src_mask = src_mask.type(torch.LongTensor)\n",
    "    \n",
    "\n",
    "        # data = data.to(device)\n",
    "        # src_mask = src_mask.to(device)\n",
    "        # ############################################\n",
    "\n",
    "        output = model(data.t(), src_mask, src_pad_mask)\n",
    "        # pdb.set_trace()\n",
    "\n",
    "        \n",
    "        ### Figure out shape of output.view(-1, ntokens)\n",
    "        loss = criterion(output.view(-1, ntokens), targets.type(torch.LongTensor))\n",
    "\n",
    "        # What does this do?\n",
    "        optimizer.zero_grad()\n",
    "        \n",
    "        # Computes gradients\n",
    "        loss.backward()\n",
    "\n",
    "        #What does this do?\n",
    "        torch.nn.utils.clip_grad_norm_(model.parameters(), 0.5)\n",
    "\n",
    "        #What does this do?\n",
    "        optimizer.step()\n",
    "\n",
    "        total_loss += loss.item()\n",
    "        print(f\"Loss for batch {batch}: {total_loss}\")\n",
    "        \n",
    "        if batch % log_interval == 0 and batch > 0:\n",
    "            lr = scheduler.get_last_lr()[0]\n",
    "            ms_per_batch = (time.time() - start_time) * 1000 / log_interval\n",
    "            cur_loss = total_loss / log_interval\n",
    "            ppl = math.exp(cur_loss)\n",
    "            print(f'| epoch {epoch:3d} | {batch:5d}/{num_batches:5d} batches | '\n",
    "                  f'lr {lr:02.2f} | ms/batch {ms_per_batch:5.2f} | '\n",
    "                  f'loss {cur_loss:5.2f} | ppl {ppl:8.2f}')\n",
    "            total_loss = 0\n",
    "            start_time = time.time()"
   ]
  },
  {
   "cell_type": "code",
   "execution_count": 31,
   "id": "24add71e",
   "metadata": {},
   "outputs": [],
   "source": [
    "def evaluate(model: nn.Module, eval_data: Tensor) -> float:\n",
    "    ### What does turning on eval mode do? \n",
    "    model.eval()  # turn on evaluation mode\n",
    "    total_loss = 0.\n",
    "    src_mask = generate_square_subsequent_mask(511).to(device)\n",
    "    with torch.no_grad():\n",
    "        for i in range(0, eval_data.size(0) - 1, batch_size):\n",
    "            ### Change get batch for eval\n",
    "            data, targets = get_batch_next_item(eval_data, i)\n",
    "            src_pad_mask = (data == 0).bool()\n",
    "\n",
    "            curr_batch_size = data.size(0)\n",
    "            if curr_batch_size != batch_size:\n",
    "                src_mask = src_mask[:curr_batch_size, :curr_batch_size]\n",
    "            \n",
    "            output = model(data, src_mask, src_pad_mask)\n",
    "            output_flat = output.view(-1, ntokens)\n",
    "            total_loss += batch_size * criterion(output_flat, targets).item()\n",
    "    return total_loss / (len(eval_data) - 1)"
   ]
  },
  {
   "cell_type": "code",
   "execution_count": 32,
   "id": "02281d71",
   "metadata": {},
   "outputs": [
    {
     "name": "stdout",
     "output_type": "stream",
     "text": [
      "Loss for batch 0: 21.320785522460938\n"
     ]
    },
    {
     "ename": "KeyboardInterrupt",
     "evalue": "",
     "output_type": "error",
     "traceback": [
      "\u001b[0;31m---------------------------------------------------------------------------\u001b[0m",
      "\u001b[0;31mKeyboardInterrupt\u001b[0m                         Traceback (most recent call last)",
      "\u001b[1;32m/Users/isaacdsloan/RecSys/movielens1m.ipynb Cell 35\u001b[0m in \u001b[0;36m<cell line: 5>\u001b[0;34m()\u001b[0m\n\u001b[1;32m      <a href='vscode-notebook-cell:/Users/isaacdsloan/RecSys/movielens1m.ipynb#ch0000034?line=4'>5</a>\u001b[0m \u001b[39mfor\u001b[39;00m epoch \u001b[39min\u001b[39;00m \u001b[39mrange\u001b[39m(\u001b[39m1\u001b[39m, epochs \u001b[39m+\u001b[39m \u001b[39m1\u001b[39m):\n\u001b[1;32m      <a href='vscode-notebook-cell:/Users/isaacdsloan/RecSys/movielens1m.ipynb#ch0000034?line=5'>6</a>\u001b[0m     epoch_start_time \u001b[39m=\u001b[39m time\u001b[39m.\u001b[39mtime()\n\u001b[0;32m----> <a href='vscode-notebook-cell:/Users/isaacdsloan/RecSys/movielens1m.ipynb#ch0000034?line=6'>7</a>\u001b[0m     train(model)\n\u001b[1;32m      <a href='vscode-notebook-cell:/Users/isaacdsloan/RecSys/movielens1m.ipynb#ch0000034?line=7'>8</a>\u001b[0m     val_loss \u001b[39m=\u001b[39m evaluate(model, evaluation_input)\n\u001b[1;32m      <a href='vscode-notebook-cell:/Users/isaacdsloan/RecSys/movielens1m.ipynb#ch0000034?line=8'>9</a>\u001b[0m     val_ppl \u001b[39m=\u001b[39m math\u001b[39m.\u001b[39mexp(val_loss)\n",
      "\u001b[1;32m/Users/isaacdsloan/RecSys/movielens1m.ipynb Cell 35\u001b[0m in \u001b[0;36mtrain\u001b[0;34m(model)\u001b[0m\n\u001b[1;32m     <a href='vscode-notebook-cell:/Users/isaacdsloan/RecSys/movielens1m.ipynb#ch0000034?line=59'>60</a>\u001b[0m optimizer\u001b[39m.\u001b[39mzero_grad()\n\u001b[1;32m     <a href='vscode-notebook-cell:/Users/isaacdsloan/RecSys/movielens1m.ipynb#ch0000034?line=61'>62</a>\u001b[0m \u001b[39m# Computes gradients\u001b[39;00m\n\u001b[0;32m---> <a href='vscode-notebook-cell:/Users/isaacdsloan/RecSys/movielens1m.ipynb#ch0000034?line=62'>63</a>\u001b[0m loss\u001b[39m.\u001b[39;49mbackward()\n\u001b[1;32m     <a href='vscode-notebook-cell:/Users/isaacdsloan/RecSys/movielens1m.ipynb#ch0000034?line=64'>65</a>\u001b[0m \u001b[39m#What does this do?\u001b[39;00m\n\u001b[1;32m     <a href='vscode-notebook-cell:/Users/isaacdsloan/RecSys/movielens1m.ipynb#ch0000034?line=65'>66</a>\u001b[0m torch\u001b[39m.\u001b[39mnn\u001b[39m.\u001b[39mutils\u001b[39m.\u001b[39mclip_grad_norm_(model\u001b[39m.\u001b[39mparameters(), \u001b[39m0.5\u001b[39m)\n",
      "File \u001b[0;32m/opt/miniconda3/envs/recsysenv/lib/python3.10/site-packages/torch/_tensor.py:363\u001b[0m, in \u001b[0;36mTensor.backward\u001b[0;34m(self, gradient, retain_graph, create_graph, inputs)\u001b[0m\n\u001b[1;32m    354\u001b[0m \u001b[39mif\u001b[39;00m has_torch_function_unary(\u001b[39mself\u001b[39m):\n\u001b[1;32m    355\u001b[0m     \u001b[39mreturn\u001b[39;00m handle_torch_function(\n\u001b[1;32m    356\u001b[0m         Tensor\u001b[39m.\u001b[39mbackward,\n\u001b[1;32m    357\u001b[0m         (\u001b[39mself\u001b[39m,),\n\u001b[0;32m   (...)\u001b[0m\n\u001b[1;32m    361\u001b[0m         create_graph\u001b[39m=\u001b[39mcreate_graph,\n\u001b[1;32m    362\u001b[0m         inputs\u001b[39m=\u001b[39minputs)\n\u001b[0;32m--> 363\u001b[0m torch\u001b[39m.\u001b[39;49mautograd\u001b[39m.\u001b[39;49mbackward(\u001b[39mself\u001b[39;49m, gradient, retain_graph, create_graph, inputs\u001b[39m=\u001b[39;49minputs)\n",
      "File \u001b[0;32m/opt/miniconda3/envs/recsysenv/lib/python3.10/site-packages/torch/autograd/__init__.py:173\u001b[0m, in \u001b[0;36mbackward\u001b[0;34m(tensors, grad_tensors, retain_graph, create_graph, grad_variables, inputs)\u001b[0m\n\u001b[1;32m    168\u001b[0m     retain_graph \u001b[39m=\u001b[39m create_graph\n\u001b[1;32m    170\u001b[0m \u001b[39m# The reason we repeat same the comment below is that\u001b[39;00m\n\u001b[1;32m    171\u001b[0m \u001b[39m# some Python versions print out the first line of a multi-line function\u001b[39;00m\n\u001b[1;32m    172\u001b[0m \u001b[39m# calls in the traceback and some print out the last line\u001b[39;00m\n\u001b[0;32m--> 173\u001b[0m Variable\u001b[39m.\u001b[39;49m_execution_engine\u001b[39m.\u001b[39;49mrun_backward(  \u001b[39m# Calls into the C++ engine to run the backward pass\u001b[39;49;00m\n\u001b[1;32m    174\u001b[0m     tensors, grad_tensors_, retain_graph, create_graph, inputs,\n\u001b[1;32m    175\u001b[0m     allow_unreachable\u001b[39m=\u001b[39;49m\u001b[39mTrue\u001b[39;49;00m, accumulate_grad\u001b[39m=\u001b[39;49m\u001b[39mTrue\u001b[39;49;00m)\n",
      "\u001b[0;31mKeyboardInterrupt\u001b[0m: "
     ]
    }
   ],
   "source": [
    "best_val_loss = float('inf')\n",
    "epochs = 1\n",
    "best_model = None\n",
    "\n",
    "for epoch in range(1, epochs + 1):\n",
    "    epoch_start_time = time.time()\n",
    "    train(model)\n",
    "    val_loss = evaluate(model, evaluation_input)\n",
    "    val_ppl = math.exp(val_loss)\n",
    "    elapsed = time.time() - epoch_start_time\n",
    "    print('-' * 89)\n",
    "    print(f'| end of epoch {epoch:3d} | time: {elapsed:5.2f}s | '\n",
    "          f'valid loss {val_loss:5.2f} | valid ppl {val_ppl:8.2f}')\n",
    "    print('-' * 89)\n",
    "\n",
    "    if val_loss < best_val_loss:\n",
    "        best_val_loss = val_loss\n",
    "        best_model = copy.deepcopy(model)\n",
    "\n",
    "    scheduler.step()\n"
   ]
  },
  {
   "cell_type": "code",
   "execution_count": 139,
   "id": "400a3604",
   "metadata": {},
   "outputs": [
    {
     "data": {
      "text/plain": [
       "torch.float32"
      ]
     },
     "execution_count": 139,
     "metadata": {},
     "output_type": "execute_result"
    }
   ],
   "source": [
    "generate_square_subsequent_mask(512).dtype"
   ]
  },
  {
   "cell_type": "code",
   "execution_count": null,
   "id": "c10a2aa5",
   "metadata": {},
   "outputs": [],
   "source": [
    "\"\"\"RuntimeError: Expected tensor for argument #1 'indices' to have one of the follow\n",
    "ing scalar types: Long, Int; but got torch.FloatTensor instead (while checking \n",
    "arguments for embedding)\"\"\"\n",
    "\n",
    "\"\"\"src_mask.dtype == torch.int64\"\"\"\n",
    "\n",
    "\"\"\"expected scalar type Long but found Float\"\"\""
   ]
  }
 ],
 "metadata": {
  "kernelspec": {
   "display_name": "IPython - RecSys",
   "language": "python",
   "name": "recsysenv"
  },
  "language_info": {
   "codemirror_mode": {
    "name": "ipython",
    "version": 3
   },
   "file_extension": ".py",
   "mimetype": "text/x-python",
   "name": "python",
   "nbconvert_exporter": "python",
   "pygments_lexer": "ipython3",
   "version": "3.10.5"
  }
 },
 "nbformat": 4,
 "nbformat_minor": 5
}
